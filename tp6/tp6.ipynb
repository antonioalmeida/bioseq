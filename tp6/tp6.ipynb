{
 "cells": [
  {
   "cell_type": "code",
   "execution_count": 6,
   "metadata": {},
   "outputs": [],
   "source": [
    "# Function that reads a multi-line sequence from a text file\n",
    "\n",
    "def read_dna_seq(filename):\n",
    "    seq = ''\n",
    "    fd = open(filename)\n",
    "    \n",
    "    for line in fd:\n",
    "        seq += line.strip()\n",
    "    \n",
    "    fd.close()\n",
    "    return seq"
   ]
  },
  {
   "cell_type": "code",
   "execution_count": 7,
   "metadata": {},
   "outputs": [],
   "source": [
    "# Valid DNA sequence\n",
    "validSeq = 'ATGAAATTATGAATGAGCCTCAGCTGAAGCATCGCGCATCAGACTACGCTCAGACTCAGACTCAGCATTATAGTGAATGTTAATAAATAAAATAA'\n",
    "invalidSeq = 'ATGAAATTATGAATGAGCCTCAGCTGAAGCATCGCGCATCAGACTACGCTCAGACTCAGACTCAGCATTATAGTGAATGTTAATAAATAAAATAAD'\n",
    "\n",
    "dic = set(['A', 'T', 'C', 'G'])\n",
    "\n",
    "def is_valid_dna(seq):\n",
    "    return all(i in dic for i in seq)"
   ]
  },
  {
   "cell_type": "code",
   "execution_count": 8,
   "metadata": {},
   "outputs": [
    {
     "data": {
      "text/plain": [
       "'ATTTAAAAGAACTTAATGATCAAGTTCATCAAAATCTTATTGGGGTGCCAAATAAACGTACCCTTGAATTTGCAAAATATTTGCAAAAACGTAATCAACATACCTGGATTCGTTATGTTGTGGTTCCTGGTTATACTGATAGCGATCACGATGTGCATTTATTAGGTCAGTTTATTGAAGGTATGACCAATATTGAAAAAGTTGAACTTCTTCCTTATCATCGATTAGGTGTGCATAAATGGAAAACCCTTGGGTTAGATTATGAGCTTGAAAATGTATTACCGCCAACTAAAGAATCCTTAGAACATATTAAAACAATCCTAGAAGGTTATGGACACACTGTAAAATTCTAGAATAAATGTCAGCTAACATAAGGAGTAAATAATGAAAAAAATTATTTTAACATTATCACTTGGGTTACTTACCGCTTGTTCTGCTCAAATCCAAAAGGCTGAACAAAATGATGTGAAGCTGGCACCGCCGACTGATGTACGAAGCGGATATATACGTTTGGTAAAGAATGTGAATTATTACATCGATAGTGAATCGATCTGGGTGGATAACCAAGAGCCACAAATTGTACATTTTGATGCTGTGGTGAATTTAGATAGGGGATTGTATGTTTATCCTGAGCCTAAACGTTATGCACGTTCTGTTCGTCAGTATAAGATTTTGAATTGTGCAAATTATCATTTAACTCAAATACGAACTGATTTCTATGATGAATTTTGGGGACAGGGTTTGCGGGCAGCACCTAAAAAGCAAAAGAAACATACGTTAAGTTTAACACCTGATACAACGCTTTATAATGCTGCTCAGATTATTTGTGCAAATTATGGTAAAGCATTTTCAGTTGATAAAAAATAAAAAAATCTGCACCTTAATTAGTTTAAATTTTATTCAATTTTTAGGGTGCAGAGAGTATTCGATTTTTCTGCAGTTATTGCTATTTTACTGCTGGCACTTTTAAGTCTGGCTCGTTTGGTTTTTCAATTGGTGCAAAAGTTTTATCTTTATTCGCATCAATAATTTTTTGAGTATCATTTGCTAATGCGGTTAAACCCATTTTTTCATAAGCTTCCTGCATCAGAAATAATCCTTCATAAGTTGCTTTAGTATCAGGATATTGTTTTAACATTCCTACCACACGATTTGCAACTGCTACCCACGCTTTACGTTTTGCATAGAATTTTGCAATCTCTAATTCGTGACGAGCCAGTGCATCTTTAATATAAGCCATACGAGCTAAAGCAT'"
      ]
     },
     "execution_count": 8,
     "metadata": {},
     "output_type": "execute_result"
    }
   ],
   "source": [
    "read_dna_seq('example_Hinfluenzae.txt')"
   ]
  },
  {
   "cell_type": "code",
   "execution_count": 9,
   "metadata": {},
   "outputs": [],
   "source": [
    "# Function that writes a DNA sequence to a text file\n",
    "\n",
    "def write_dna_seq(seq, filename):\n",
    "    fd = open(filename, 'w')\n",
    "    \n",
    "    for i in range(0, len(seq), 60):\n",
    "        fd.write(seq[i:i+60] + '\\n')\n",
    "        \n",
    "    fd.close()"
   ]
  },
  {
   "cell_type": "code",
   "execution_count": 10,
   "metadata": {},
   "outputs": [],
   "source": [
    "seq = 'ATTTAAAAGAACTTAATGATCAAGTTCATCAAAATCTTATTGGGGTGCCAAATAAACGTACCCTTGAATTTGCAAAATATTTGCAAAAACGTAATCAACATACCTGGATTCGTTATGTTGTGGTTCCTGGTTATACTGATAGCGATCACGATGTGCATTTATTAGGTCAGTTTATTGAAGGTATGACCAATATTGAAAAAGTTGAACTTCTTCCTTATCATCGATTAGGTGTGCATAAATGGAAAACCCTTGGGTTAGATTATGAGCTTGAAAATGTATTACCGCCAACTAAAGAATCCTTAGAACATATTAAAACAATCCTAGAAGGTTATGGACACACTGTAAAATTCTAGAATAAATGTCAGCTAACATAAGGAGTAAATAATGAAAAAAATTATTTTAACATTATCACTTGGGTTACTTACCGCTTGTTCTGCTCAAATCCAAAAGGCTGAACAAAATGATGTGAAGCTGGCACCGCCGACTGATGTACGAAGCGGATATATACGTTTGGTAAAGAATGTGAATTATTACATCGATAGTGAATCGATCTGGGTGGATAACCAAGAGCCACAAATTGTACATTTTGATGCTGTGGTGAATTTAGATAGGGGATTGTATGTTTATCCTGAGCCTAAACGTTATGCACGTTCTGTTCGTCAGTATAAGATTTTGAATTGTGCAAATTATCATTTAACTCAAATACGAACTGATTTCTATGATGAATTTTGGGGACAGGGTTTGCGGGCAGCACCTAAAAAGCAAAAGAAACATACGTTAAGTTTAACACCTGATACAACGCTTTATAATGCTGCTCAGATTATTTGTGCAAATTATGGTAAAGCATTTTCAGTTGATAAAAAATAAAAAAATCTGCACCTTAATTAGTTTAAATTTTATTCAATTTTTAGGGTGCAGAGAGTATTCGATTTTTCTGCAGTTATTGCTATTTTACTGCTGGCACTTTTAAGTCTGGCTCGTTTGGTTTTTCAATTGGTGCAAAAGTTTTATCTTTATTCGCATCAATAATTTTTTGAGTATCATTTGCTAATGCGGTTAAACCCATTTTTTCATAAGCTTCCTGCATCAGAAATAATCCTTCATAAGTTGCTTTAGTATCAGGATATTGTTTTAACATTCCTACCACACGATTTGCAACTGCTACCCACGCTTTACGTTTTGCATAGAATTTTGCAATCTCTAATTCGTGACGAGCCAGTGCATCTTTAATATAAGCCATACGAGCTAAAGCAT'\n",
    "write_dna_seq(seq, 'hello_seq.txt')"
   ]
  },
  {
   "cell_type": "code",
   "execution_count": 11,
   "metadata": {},
   "outputs": [],
   "source": [
    "# Function that reads a Fasta file into a dictionary\n",
    "\n",
    "def read_fasta_file(filename):\n",
    "    dic = {}\n",
    "    \n",
    "    fd = open(filename)\n",
    "    key = ''\n",
    "    \n",
    "    for line in fd:\n",
    "        \n",
    "        # Ignore empty lines\n",
    "        if len(line.strip()):\n",
    "            line = line.strip()\n",
    "\n",
    "            if(line[0] == '>'):\n",
    "                key = line[1:]\n",
    "                dic[key] = ''\n",
    "            else:\n",
    "                dic[key] += line\n",
    "    \n",
    "    fd.close()\n",
    "    return dic\n",
    "            "
   ]
  },
  {
   "cell_type": "code",
   "execution_count": 12,
   "metadata": {},
   "outputs": [
    {
     "data": {
      "text/plain": [
       "{'ORF number 1 in reading frame 1 on the direct strand extends from base 16 to base 165.': 'ATGATCAAGTTCATCAAAATCTTATTGGGGTGCCAAATAAACGTACCCTTGAATTTGCAAAATATTTGCAAAAACGTAATCAACATACCTGGATTCGTTATGTTGTGGTTCCTGGTTATACTGATAGCGATCACGATGTGCATTTATTAG',\n",
       " 'Translation of ORF number 1 in reading frame 1 on the direct strand.': 'MIKFIKILLGCQINVPLNLQNICKNVINIPGFVMLWFLVILIAITMCIY*',\n",
       " 'ORF number 2 in reading frame 1 on the direct strand extends from base 385 to base 867.': 'ATGAAAAAAATTATTTTAACATTATCACTTGGGTTACTTACCGCTTGTTCTGCTCAAATCCAAAAGGCTGAACAAAATGATGTGAAGCTGGCACCGCCGACTGATGTACGAAGCGGATATATACGTTTGGTAAAGAATGTGAATTATTACATCGATAGTGAATCGATCTGGGTGGATAACCAAGAGCCACAAATTGTACATTTTGATGCTGTGGTGAATTTAGATAGGGGATTGTATGTTTATCCTGAGCCTAAACGTTATGCACGTTCTGTTCGTCAGTATAAGATTTTGAATTGTGCAAATTATCATTTAACTCAAATACGAACTGATTTCTATGATGAATTTTGGGGACAGGGTTTGCGGGCAGCACCTAAAAAGCAAAAGAAACATACGTTAAGTTTAACACCTGATACAACGCTTTATAATGCTGCTCAGATTATTTGTGCAAATTATGGTAAAGCATTTTCAGTTGATAAAAAATAA',\n",
       " 'Translation of ORF number 2 in reading frame 1 on the direct strand.': 'MKKIILTLSLGLLTACSAQIQKAEQNDVKLAPPTDVRSGYIRLVKNVNYYIDSESIWVDNQEPQIVHFDAVVNLDRGLYVYPEPKRYARSVRQYKILNCANYHLTQIRTDFYDEFWGQGLRAAPKKQKKHTLSLTPDTTLYNAAQIICANYGKAFSVDKK*',\n",
       " 'ORF number 1 in reading frame 2 on the direct strand extends from base 809 to base 970.': 'ATGCTGCTCAGATTATTTGTGCAAATTATGGTAAAGCATTTTCAGTTGATAAAAAATAAAAAAATCTGCACCTTAATTAGTTTAAATTTTATTCAATTTTTAGGGTGCAGAGAGTATTCGATTTTTCTGCAGTTATTGCTATTTTACTGCTGGCACTTTTAA',\n",
       " 'Translation of ORF number 1 in reading frame 2 on the direct strand.': 'MLLRLFVQIMVKHFQLIKNKKICTLISLNFIQFLGCREYSIFLQLLLFYCWHF*',\n",
       " 'ORF number 1 in reading frame 3 on the direct strand extends from base 183 to base 353.': 'ATGACCAATATTGAAAAAGTTGAACTTCTTCCTTATCATCGATTAGGTGTGCATAAATGGAAAACCCTTGGGTTAGATTATGAGCTTGAAAATGTATTACCGCCAACTAAAGAATCCTTAGAACATATTAAAACAATCCTAGAAGGTTATGGACACACTGTAAAATTCTAG',\n",
       " 'Translation of ORF number 1 in reading frame 3 on the direct strand.': 'MTNIEKVELLPYHRLGVHKWKTLGLDYELENVLPPTKESLEHIKTILEGYGHTVKF*',\n",
       " 'ORF number 1 in reading frame 1 on the reverse strand extends from base 562 to base 651.': 'ATGATAATTTGCACAATTCAAAATCTTATACTGACGAACAGAACGTGCATAACGTTTAGGCTCAGGATAAACATACAATCCCCTATCTAA',\n",
       " 'Translation of ORF number 1 in reading frame 1 on the reverse strand.': 'MIICTIQNLILTNRTCITFRLRINIQSPI*',\n",
       " 'ORF number 2 in reading frame 1 on the reverse strand extends from base 670 to base 837.': 'ATGTACAATTTGTGGCTCTTGGTTATCCACCCAGATCGATTCACTATCGATGTAATAATTCACATTCTTTACCAAACGTATATATCCGCTTCGTACATCAGTCGGCGGTGCCAGCTTCACATCATTTTGTTCAGCCTTTTGGATTTGAGCAGAACAAGCGGTAAGTAA',\n",
       " 'Translation of ORF number 2 in reading frame 1 on the reverse strand.': 'MYNLWLLVIHPDRFTIDVIIHILYQTYISASYISRRCQLHIILFSLLDLSRTSGK*',\n",
       " 'ORF number 1 in reading frame 2 on the reverse strand extends from base 1097 to base 1252.': 'ATGCACATCGTGATCGCTATCAGTATAACCAGGAACCACAACATAACGAATCCAGGTATGTTGATTACGTTTTTGCAAATATTTTGCAAATTCAAGGGTACGTTTATTTGGCACCCCAATAAGATTTTGATGAACTTGATCATTAAGTTCTTTTAA',\n",
       " 'Translation of ORF number 1 in reading frame 2 on the reverse strand.': 'MHIVIAISITRNHNITNPGMLITFLQIFCKFKGTFIWHPNKILMNLIIKFF*',\n",
       " 'ORF number 1 in reading frame 3 on the reverse strand extends from base 15 to base 308.': 'ATGGCTTATATTAAAGATGCACTGGCTCGTCACGAATTAGAGATTGCAAAATTCTATGCAAAACGTAAAGCGTGGGTAGCAGTTGCAAATCGTGTGGTAGGAATGTTAAAACAATATCCTGATACTAAAGCAACTTATGAAGGATTATTTCTGATGCAGGAAGCTTATGAAAAAATGGGTTTAACCGCATTAGCAAATGATACTCAAAAAATTATTGATGCGAATAAAGATAAAACTTTTGCACCAATTGAAAAACCAAACGAGCCAGACTTAAAAGTGCCAGCAGTAAAATAG',\n",
       " 'Translation of ORF number 1 in reading frame 3 on the reverse strand.': 'MAYIKDALARHELEIAKFYAKRKAWVAVANRVVGMLKQYPDTKATYEGLFLMQEAYEKMGLTALANDTQKIIDANKDKTFAPIEKPNEPDLKVPAVK*'}"
      ]
     },
     "execution_count": 12,
     "metadata": {},
     "output_type": "execute_result"
    }
   ],
   "source": [
    "read_fasta_file('example_Hinfluenzae.openreadingframes.txt')"
   ]
  },
  {
   "cell_type": "code",
   "execution_count": 13,
   "metadata": {},
   "outputs": [],
   "source": [
    "def read_dic_aminoacids():\n",
    "    dic = {}\n",
    "    fd = open('genetic_code.txt')\n",
    "    \n",
    "    for line in fd:\n",
    "        triplet = line[1:4]\n",
    "        aminoacid = line[7]\n",
    "        dic[triplet] = aminoacid\n",
    "    \n",
    "    return dic\n",
    "\n",
    "# Helper function\n",
    "def translate_codon(triplet, dic):\n",
    "    assert triplet in dic, 'Triplet not found in dictionary'\n",
    "    \n",
    "    return dic[triplet]"
   ]
  },
  {
   "cell_type": "code",
   "execution_count": 14,
   "metadata": {},
   "outputs": [],
   "source": [
    "def complement(base):\n",
    "    switcher = {\"A\": \"T\",\n",
    "                \"T\": \"A\",\n",
    "                \"G\": \"C\",\n",
    "                \"C\": \"G\"}\n",
    "    return switcher[base]\n",
    "\n",
    "# Reverse Complement of a DNA molecule\n",
    "# We reverse the chain because that is how it is read (5' -> 3')\n",
    "def dna_complement(dna_seq):\n",
    "    assert is_valid_dna(dna_seq)\n",
    "    res = ''\n",
    "    \n",
    "    for base in reversed(dna_seq.upper()):\n",
    "        res += complement(base)\n",
    "    \n",
    "    return res"
   ]
  },
  {
   "cell_type": "code",
   "execution_count": 15,
   "metadata": {},
   "outputs": [
    {
     "data": {
      "text/plain": [
       "'TTATTTTATTTATTAACATTCACTATAATGCTGAGTCTGAGTCTGAGCGTAGTCTGATGCGCGATGCTTCAGCTGAGGCTCATTCATAATTTCAT'"
      ]
     },
     "execution_count": 15,
     "metadata": {},
     "output_type": "execute_result"
    }
   ],
   "source": [
    "dna_complement('ATGAAATTATGAATGAGCCTCAGCTGAAGCATCGCGCATCAGACTACGCTCAGACTCAGACTCAGCATTATAGTGAATGTTAATAAATAAAATAA')"
   ]
  },
  {
   "cell_type": "code",
   "execution_count": 16,
   "metadata": {},
   "outputs": [
    {
     "name": "stdout",
     "output_type": "stream",
     "text": [
      "A\n"
     ]
    }
   ],
   "source": [
    "codon_dic = read_dic_aminoacids()\n",
    "\n",
    "print(translate_codon('GCT', codon_dic)) # A\n",
    "#print(translate_codon('ABC', codon_dic)) # Assertion Error"
   ]
  },
  {
   "cell_type": "code",
   "execution_count": 17,
   "metadata": {},
   "outputs": [],
   "source": [
    "# Function that translates sequence of codons into protein\n",
    "\n",
    "# input - DNA sequence, codon dictionary, and initial position in the sequence\n",
    "# output - translated protein sequence\n",
    "\n",
    "\n",
    "def translate_seq(seq, dic, init_index = 0):\n",
    "    res = ''\n",
    "    \n",
    "    for i in range(init_index, len(seq) - 2, 3):\n",
    "        res += translate_codon(seq[i:i+3], dic)\n",
    "\n",
    "    return res"
   ]
  },
  {
   "cell_type": "code",
   "execution_count": 41,
   "metadata": {},
   "outputs": [],
   "source": [
    "# Genes are tipically found in GC-rich regions of the genome. \n",
    "# This means that more than 60% of the sequence is formed by cytosine (C) or guanine (G) bases\n",
    "\n",
    "# Calculate the GC content (percentage of 'G' and 'C') of the sequence.\n",
    "\n",
    "def symbol_content(seq, symbols):\n",
    "    count = 0 \n",
    "    \n",
    "    for i in seq:\n",
    "        if(i in symbols):\n",
    "            count += 1\n",
    "    return count/len(seq)"
   ]
  },
  {
   "cell_type": "code",
   "execution_count": 18,
   "metadata": {},
   "outputs": [],
   "source": [
    "# \n",
    "\n",
    "def reading_frames(seq, dic):\n",
    "    res = []\n",
    "    \n",
    "    for i in range(0,3):\n",
    "        res.append(translate_seq(seq, dic, i))\n",
    "        \n",
    "    complement_seq = dna_complement(seq)\n",
    "    \n",
    "    for i in range(0,3):\n",
    "        res.append(translate_seq(complement_seq, dic, i))\n",
    "    \n",
    "    return res"
   ]
  },
  {
   "cell_type": "code",
   "execution_count": 19,
   "metadata": {},
   "outputs": [
    {
     "data": {
      "text/plain": [
       "'MKL_MSLS_SIAHQTTLRLRLSIIVNVNK_N'"
      ]
     },
     "execution_count": 19,
     "metadata": {},
     "output_type": "execute_result"
    }
   ],
   "source": [
    "codon_dic = read_dic_aminoacids()\n",
    "translate_seq('ATGAAATTATGAATGAGCCTCAGCTGAAGCATCGCGCATCAGACTACGCTCAGACTCAGACTCAGCATTATAGTGAATGTTAATAAATAAAATAA', codon_dic)"
   ]
  },
  {
   "cell_type": "code",
   "execution_count": 20,
   "metadata": {},
   "outputs": [
    {
     "data": {
      "text/plain": [
       "['MKL_MSLS_SIAHQTTLRLRLSIIVNVNK_N',\n",
       " '_NYE_ASAEASRIRLRSDSDSAL__MLINKI',\n",
       " 'EIMNEPQLKHRASDYAQTQTQHYSEC__IK_',\n",
       " 'LFYLLTFTIMLSLSLSVV_CAMLQLRLIHNF',\n",
       " 'YFIY_HSL_C_V_V_A_SDARCFS_GSFIIS',\n",
       " 'ILFINIHYNAESESERSLMRDASAEAHS_FH']"
      ]
     },
     "execution_count": 20,
     "metadata": {},
     "output_type": "execute_result"
    }
   ],
   "source": [
    "reading_frames('ATGAAATTATGAATGAGCCTCAGCTGAAGCATCGCGCATCAGACTACGCTCAGACTCAGACTCAGCATTATAGTGAATGTTAATAAATAAAATAA', codon_dic)"
   ]
  },
  {
   "cell_type": "code",
   "execution_count": 21,
   "metadata": {},
   "outputs": [],
   "source": [
    "# Given the redundancy of the genetic code, multiple codons may code for a single aminoacids.\n",
    "# Different species tend to use more frequently certain codons in their genes when coding for proteins. \n",
    "# This differential coding is tipically called codon usage\n",
    "\n",
    "# Common aminocids that have multiple 'key' codons -> A and R\n",
    "def codon_usage(seq, aminoacid, codon_dic):\n",
    "    res_dic = {}\n",
    "    for k,v in codon_dic.items():\n",
    "        if v is aminoacid:\n",
    "            res_dic[k] = 0\n",
    "    \n",
    "    for i in range(0, len(seq) - 2, 3):\n",
    "        codon = seq[i:i+3]\n",
    "\n",
    "        if translate_codon(codon, codon_dic) == aminoacid:\n",
    "            res_dic[codon] += 1\n",
    "                \n",
    "    return res_dic        \n"
   ]
  },
  {
   "cell_type": "code",
   "execution_count": 22,
   "metadata": {},
   "outputs": [
    {
     "data": {
      "text/plain": [
       "{'GCT': 0, 'GCC': 0, 'GCA': 0, 'GCG': 1}"
      ]
     },
     "execution_count": 22,
     "metadata": {},
     "output_type": "execute_result"
    }
   ],
   "source": [
    "seq = 'ATGAAATTATGAATGAGCCTCAGCTGAAGCATCGCGCATCAGACTACGCTCAGACTCAGACTCAGCATTATAGTGAATGTTAATAAATAAAATAA'\n",
    "codon_usage(seq, 'A', codon_dic)"
   ]
  },
  {
   "cell_type": "code",
   "execution_count": 23,
   "metadata": {},
   "outputs": [],
   "source": [
    "# For an aminoacid sequence translated from the DNA sequence, find all possible open reading frames. The putative\n",
    "# protein sequence should start with the start codon and finish in he stop codon. Note that multiple start codons \n",
    "# may appear efore the stop codon. Add the resulting \"proteins\" to a list.\n",
    "\n",
    "# seq - aminoacid sequence\n",
    "def all_proteins_rf(seq):\n",
    "    proteins = []\n",
    "    index_stack = []\n",
    "    \n",
    "    for i,x in enumerate(seq):\n",
    "        if x == 'M': # start_sequence\n",
    "            index_stack.append(i)\n",
    "        if x == '_':\n",
    "            for index in index_stack:\n",
    "                proteins.append(seq[index:i+1])\n",
    "            index_stack = []\n",
    "    \n",
    "    return proteins\n",
    "        "
   ]
  },
  {
   "cell_type": "code",
   "execution_count": 24,
   "metadata": {},
   "outputs": [
    {
     "data": {
      "text/plain": [
       "['MIEDEMIDMAEIDIAEMD_', 'MIDMAEIDIAEMD_', 'MAEIDIAEMD_', 'MD_']"
      ]
     },
     "execution_count": 24,
     "metadata": {},
     "output_type": "execute_result"
    }
   ],
   "source": [
    "all_proteins_rf('IAEMIEDEMIDMAEIDIAEMD_OMAED')"
   ]
  },
  {
   "cell_type": "code",
   "execution_count": 97,
   "metadata": {},
   "outputs": [],
   "source": [
    "# Compute all putative proteins by applying the previous function to all reading frames of the sequence\n",
    "\n",
    "# first - get all reading frames\n",
    "# second - check reading frames that have minimum size\n",
    "# third - sort by size\n",
    "codon_dic = read_dic_aminoacids()\n",
    "\n",
    "def all_orfs_filtered(dna_seq, codon_dic, min_size=0):\n",
    "    \n",
    "    rfs = reading_frames(dna_seq, codon_dic)\n",
    "    possible_proteins = []\n",
    "    \n",
    "    for rf in rfs:\n",
    "        possible_proteins += all_proteins_rf(rf)\n",
    "        \n",
    "    filtered_proteins = [p for p in possible_proteins if len(p) > min_size]\n",
    "    \n",
    "    sorted_proteins = sorted(possible_proteins, key = lambda x : len(x), reverse = True)\n",
    "        \n",
    "    return sorted_proteins"
   ]
  },
  {
   "cell_type": "code",
   "execution_count": 98,
   "metadata": {},
   "outputs": [
    {
     "data": {
      "text/plain": [
       "['MKL_', 'MSLS_', 'MNEPQLKHRASDYAQTQTQHYSEC_', 'MLSLSLSVV_', 'MRDASAEAHS_']"
      ]
     },
     "execution_count": 98,
     "metadata": {},
     "output_type": "execute_result"
    }
   ],
   "source": [
    "codon_dic = read_dic_aminoacids()\n",
    "dna_seq = 'ATGAAATTATGAATGAGCCTCAGCTGAAGCATCGCGCATCAGACTACGCTCAGACTCAGACTCAGCATTATAGTGAATGTTAATAAATAAAATAA'\n",
    "all_orfs(dna_seq, codon_dic, 0)"
   ]
  },
  {
   "cell_type": "code",
   "execution_count": 99,
   "metadata": {},
   "outputs": [],
   "source": [
    "# Protein sequences of smaller length "
   ]
  },
  {
   "cell_type": "markdown",
   "metadata": {},
   "source": [
    "# Exercise\n",
    "\n",
    "#### Write a test function that reads from the input a long DNA sequence and performs the following steps on the sequence\n",
    "- Validates\n",
    "- Translates\n",
    "- Obtains the reverse complement\n",
    "- Calculates the GC-content\n",
    "- Performs the direct translation\n",
    "- Writes to a file all the putative protein sequences in increasing order of their length"
   ]
  },
  {
   "cell_type": "code",
   "execution_count": 102,
   "metadata": {},
   "outputs": [],
   "source": [
    "dna_seq = 'ATGAAATTATGAATGAGCCTCAGCTGAAGCATCGCGCATCAGACTACGCTCAGACTCAGACTCAGCATTATAGTGAATGTTAATAAATAAAATAA'\n",
    "\n",
    "def test_functions(dna):\n",
    "    assert is_valid_dna(dna), 'ERROR: Invalid DNA'\n",
    "    \n",
    "    print('Original sequence - ', dna)\n",
    "    \n",
    "    codon_dic = read_dic_aminoacids()\n",
    "    translated = translate_seq(dna, codon_dic)\n",
    "    print('Translated sequence - ', translated)\n",
    "    \n",
    "    rev_compl = dna_complement(dna)\n",
    "    print('Reverse complement - ', rev_compl)\n",
    "    \n",
    "    gc_content = symbol_content(dna, ['G', 'C'])\n",
    "    print('GC Content - ', round(gc_content, 3)*100, '%')\n",
    "    \n",
    "    prot_seqs = all_orfs(dna_seq, codon_dic, 0)\n",
    "    print(prot_seqs)\n",
    "    \n",
    "    "
   ]
  },
  {
   "cell_type": "code",
   "execution_count": 103,
   "metadata": {},
   "outputs": [
    {
     "name": "stdout",
     "output_type": "stream",
     "text": [
      "Original sequence -  ATGAAATTATGAATGAGCCTCAGCTGAAGCATCGCGCATCAGACTACGCTCAGACTCAGACTCAGCATTATAGTGAATGTTAATAAATAAAATAA\n",
      "Translated sequence -  MKL_MSLS_SIAHQTTLRLRLSIIVNVNK_N\n",
      "Reverse complement -  TTATTTTATTTATTAACATTCACTATAATGCTGAGTCTGAGTCTGAGCGTAGTCTGATGCGCGATGCTTCAGCTGAGGCTCATTCATAATTTCAT\n",
      "GC Content -  36.8 %\n",
      "['MKL_', 'MSLS_', 'MNEPQLKHRASDYAQTQTQHYSEC_', 'MLSLSLSVV_', 'MRDASAEAHS_']\n"
     ]
    }
   ],
   "source": [
    "test_functions(dna_seq)"
   ]
  },
  {
   "cell_type": "code",
   "execution_count": null,
   "metadata": {},
   "outputs": [],
   "source": []
  },
  {
   "cell_type": "code",
   "execution_count": null,
   "metadata": {},
   "outputs": [],
   "source": []
  }
 ],
 "metadata": {
  "kernelspec": {
   "display_name": "Python 3",
   "language": "python",
   "name": "python3"
  },
  "language_info": {
   "codemirror_mode": {
    "name": "ipython",
    "version": 3
   },
   "file_extension": ".py",
   "mimetype": "text/x-python",
   "name": "python",
   "nbconvert_exporter": "python",
   "pygments_lexer": "ipython3",
   "version": "3.7.2"
  }
 },
 "nbformat": 4,
 "nbformat_minor": 2
}
