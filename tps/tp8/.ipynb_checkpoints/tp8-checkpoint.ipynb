{
 "cells": [
  {
   "cell_type": "code",
   "execution_count": null,
   "metadata": {
    "collapsed": true
   },
   "outputs": [],
   "source": [
    "# Write a function that given a sequence and a restriction enzyme pattern in the REBASE syntax, i.e, inluding IUPAC \n",
    "# positions, determines the cut position of the enzyme in the sequence\n",
    "\n",
    "# The symbol ^ will be used to define the cut point in the sequence, e.g. G^AATC\n",
    "\n",
    "# Write an auxiliary function that converts from rebase/iupac syntax to regular expression syntax\n",
    "# The cut symbol ^ will be ignored int the conversion but its offset is necessary to determine the cutting point\n",
    "\n",
    "# Write a function cut_positions that given a sequence and restriction enzyme pattern defines the positions where to cut; \n",
    "# Also, function cut_sub_sequences with the resulting subsequences afer cut (restriction map)\n",
    "\n",
    "# It should be applied to both strands"
   ]
  },
  {
   "cell_type": "code",
   "execution_count": 29,
   "metadata": {},
   "outputs": [],
   "source": [
    "def rebase_to_regex(pat): \n",
    "    dic = {\n",
    "        'A': 'A',\n",
    "        'G': 'G',\n",
    "        'T': 'T',\n",
    "        'C': 'C',\n",
    "        'R': '[AG]',\n",
    "        'Y': '[CT]',\n",
    "        'S': '[GT]',\n",
    "        'W': '[AT]',\n",
    "        'K': '[GT]',\n",
    "        'M': '[AC]',\n",
    "        'B': '[CGT]',\n",
    "        'D': '[AGT]',\n",
    "        'H': '[ACT]',\n",
    "        'V': '[ACG]',\n",
    "        'N': '[ACGT]',\n",
    "        '.': '.'\n",
    "    }\n",
    "    \n",
    "    # Remove ^\n",
    "    pat = pat.replace('^','')\n",
    "    \n",
    "    result = ''\n",
    "    for i in pat:\n",
    "        result += dic[i]\n",
    "    return result"
   ]
  },
  {
   "cell_type": "code",
   "execution_count": 26,
   "metadata": {},
   "outputs": [
    {
     "ename": "TypeError",
     "evalue": "replace() takes at least 2 arguments (1 given)",
     "output_type": "error",
     "traceback": [
      "\u001b[0;31m---------------------------------------------------------------------------\u001b[0m",
      "\u001b[0;31mTypeError\u001b[0m                                 Traceback (most recent call last)",
      "\u001b[0;32m<ipython-input-26-894004e15dac>\u001b[0m in \u001b[0;36m<module>\u001b[0;34m\u001b[0m\n\u001b[0;32m----> 1\u001b[0;31m \u001b[0;34m'asd^asd'\u001b[0m\u001b[0;34m.\u001b[0m\u001b[0mreplace\u001b[0m\u001b[0;34m(\u001b[0m\u001b[0;34m'^'\u001b[0m\u001b[0;34m)\u001b[0m\u001b[0;34m\u001b[0m\u001b[0;34m\u001b[0m\u001b[0m\n\u001b[0m",
      "\u001b[0;31mTypeError\u001b[0m: replace() takes at least 2 arguments (1 given)"
     ]
    }
   ],
   "source": []
  },
  {
   "cell_type": "code",
   "execution_count": 30,
   "metadata": {},
   "outputs": [
    {
     "data": {
      "text/plain": [
       "'A[GT][AC][AGT]AC'"
      ]
     },
     "execution_count": 30,
     "metadata": {},
     "output_type": "execute_result"
    }
   ],
   "source": [
    "rebase_to_regex('AK^MDAC')"
   ]
  },
  {
   "cell_type": "code",
   "execution_count": 68,
   "metadata": {},
   "outputs": [],
   "source": [
    "def cut_positions(enzyme, seq):\n",
    "    import re\n",
    "    \n",
    "    cutpos = enzyme.find('^')\n",
    "    regex = rebase_to_regex(enzyme)\n",
    "    \n",
    "    matches = re.finditer(regex, seq)\n",
    "    locs = []\n",
    "    \n",
    "    for m in matches:\n",
    "        locs.append(m.start() + cutpos)\n",
    "        \n",
    "    return locs"
   ]
  },
  {
   "cell_type": "code",
   "execution_count": 69,
   "metadata": {},
   "outputs": [
    {
     "data": {
      "text/plain": [
       "[8, 20]"
      ]
     },
     "execution_count": 69,
     "metadata": {},
     "output_type": "execute_result"
    }
   ],
   "source": [
    "cut_positions(\"G^ATTC\", \"GTAGGAAGATTCTGAGATCGATTC\")"
   ]
  },
  {
   "cell_type": "code",
   "execution_count": 104,
   "metadata": {},
   "outputs": [],
   "source": [
    "def cut_sub_sequences(seq, enzyme):\n",
    "    res = []\n",
    "    positions = cut_positions(enzyme, seq)\n",
    "    \n",
    "    for i,pos in enumerate(positions):\n",
    "        \n",
    "        if i is 0:\n",
    "            res.append(seq[0:pos])\n",
    "            \n",
    "        if i <= len(positions)-2:\n",
    "            next_pos = positions[i+1]\n",
    "            res.append(seq[pos:next_pos])\n",
    "        else:\n",
    "            res.append(seq[pos:])\n",
    "    \n",
    "    return res"
   ]
  },
  {
   "cell_type": "code",
   "execution_count": 103,
   "metadata": {},
   "outputs": [
    {
     "data": {
      "text/plain": [
       "[7, 87]"
      ]
     },
     "execution_count": 103,
     "metadata": {},
     "output_type": "execute_result"
    }
   ],
   "source": [
    "cut_positions(\"G^AANTC\", \"ATGAAAGAAGTCTTATGAATGAGCCTCAGCTGAAGAANTCCATCGCGCAGAANTCCTACGCTCAGACTCAGACTCAGCATTATAGTGAATTCTTAATAAATAAAATAA\")"
   ]
  },
  {
   "cell_type": "code",
   "execution_count": 106,
   "metadata": {},
   "outputs": [
    {
     "name": "stdout",
     "output_type": "stream",
     "text": [
      "['ATGAAAG', 'AAGTCTTATGAATGAGCCTCAGCTGAAGAANTCCATCGCGCAGAANTCCTACGCTCAGACTCAGACTCAGCATTATAGTG', 'AATTCTTAATAAATAAAATAA']\n"
     ]
    }
   ],
   "source": [
    "enz = \"G^AANTC\"\n",
    "dna1 = \"ATGAAAGAAGTCTTATGAATGAGCCTCAGCTGAAGAANTCCATCGCGCAGAANTCCTACGCTCAGACTCAGACTCAGCATTATAGTGAATTCTTAATAAATAAAATAA\"\n",
    "\n",
    "subseq = cut_sub_sequences(dna1, enz)\n",
    "print(subseq)\n",
    "assert subseq == ['ATGAAAG', 'AAGTCTTATGAATGAGCCTCAGCTGAAGAANTCCATCGCGCAGAANTCCTACGCTCAGACTCAGACTCAGCATTATAGTG', 'AATTCTTAATAAATAAAATAA'], \"There seems to be an error with the function\""
   ]
  },
  {
   "cell_type": "code",
   "execution_count": null,
   "metadata": {},
   "outputs": [],
   "source": [
    "find_repeated_subseqs(seq, k, top=3):\n",
    "    freq = { }\n",
    "    for i in range(0, len(seq)-k+1):\n",
    "        subseq = seq[i:i+k]\n",
    "        if(subseq in freq.keys())\n",
    "            freq[subseq] += 1\n",
    "        else \n",
    "            freq[subseq] = 1\n",
    "    \n",
    "    # sort and return"
   ]
  }
 ],
 "metadata": {
  "kernelspec": {
   "display_name": "Python 3",
   "language": "python",
   "name": "python3"
  },
  "language_info": {
   "codemirror_mode": {
    "name": "ipython",
    "version": 3
   },
   "file_extension": ".py",
   "mimetype": "text/x-python",
   "name": "python",
   "nbconvert_exporter": "python",
   "pygments_lexer": "ipython3",
   "version": "3.7.2"
  }
 },
 "nbformat": 4,
 "nbformat_minor": 2
}
