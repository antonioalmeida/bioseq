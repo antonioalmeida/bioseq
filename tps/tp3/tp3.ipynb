{
 "cells": [
  {
   "cell_type": "code",
   "execution_count": 6,
   "metadata": {},
   "outputs": [],
   "source": [
    "# Valid DNA sequence\n",
    "validSeq = 'ATGAAATTATGAATGAGCCTCAGCTGAAGCATCGCGCATCAGACTACGCTCAGACTCAGACTCAGCATTATAGTGAATGTTAATAAATAAAATAA'\n",
    "invalidSeq = 'ATGAAATTATGAATGAGCCTCAGCTGAAGCATCGCGCATCAGACTACGCTCAGACTCAGACTCAGCATTATAGTGAATGTTAATAAATAAAATAAD'\n",
    "\n",
    "dic = set(['A', 'T', 'C', 'G'])\n",
    "\n",
    "def isValidDNA(seq):\n",
    "    return all(i in dic for i in seq)"
   ]
  },
  {
   "cell_type": "code",
   "execution_count": 7,
   "metadata": {},
   "outputs": [
    {
     "data": {
      "text/plain": [
       "True"
      ]
     },
     "execution_count": 7,
     "metadata": {},
     "output_type": "execute_result"
    }
   ],
   "source": [
    "isValidDNA(str)"
   ]
  },
  {
   "cell_type": "code",
   "execution_count": 8,
   "metadata": {},
   "outputs": [
    {
     "data": {
      "text/plain": [
       "False"
      ]
     },
     "execution_count": 8,
     "metadata": {},
     "output_type": "execute_result"
    }
   ],
   "source": [
    "isValidDNA(invalidSeq)"
   ]
  },
  {
   "cell_type": "code",
   "execution_count": 19,
   "metadata": {},
   "outputs": [],
   "source": [
    "# Frequency of Symbols\n",
    "def frequency(seq):\n",
    "    dic = {}\n",
    "    for i in seq:\n",
    "        if(i not in dic):\n",
    "            dic[i] = 1\n",
    "        else:\n",
    "            dic[i] += 1\n",
    "    return dic"
   ]
  },
  {
   "cell_type": "code",
   "execution_count": 20,
   "metadata": {},
   "outputs": [
    {
     "data": {
      "text/plain": [
       "{'A': 2, 'B': 2, 'C': 2, 'D': 1}"
      ]
     },
     "execution_count": 20,
     "metadata": {},
     "output_type": "execute_result"
    }
   ],
   "source": [
    "frequency('ABCDABC')"
   ]
  },
  {
   "cell_type": "code",
   "execution_count": 29,
   "metadata": {},
   "outputs": [
    {
     "data": {
      "text/plain": [
       "[('A', 3), ('B', 3), ('C', 3), ('D', 3)]"
      ]
     },
     "execution_count": 29,
     "metadata": {},
     "output_type": "execute_result"
    }
   ],
   "source": [
    "# Sort dictionary\n",
    "def sortDictionary(dic):\n",
    "    sortedDic = sorted(dic.items(), key = lambda x : x[1], reverse = True)\n",
    "    \n",
    "    return sortedDic\n",
    "\n",
    "sortDictionary(frequency('ABCDABCDABCD'))"
   ]
  },
  {
   "cell_type": "code",
   "execution_count": 37,
   "metadata": {},
   "outputs": [],
   "source": [
    "# Genes are tipically found in GC-rich regions of the genome. \n",
    "# This means that more than 60% of the sequence is formed by cytosine (C) or guanine (G) bases\n",
    "\n",
    "# Calculate the GC content (percentage of 'G' and 'C') of the sequence.\n",
    "\n",
    "def symbol_content(seq, symbols):\n",
    "    count = 0 \n",
    "    \n",
    "    for i in seq:\n",
    "        if(i in symbols):\n",
    "            count += 1\n",
    "    return count/len(seq)"
   ]
  },
  {
   "cell_type": "code",
   "execution_count": 39,
   "metadata": {},
   "outputs": [
    {
     "data": {
      "text/plain": [
       "0.4444444444444444"
      ]
     },
     "execution_count": 39,
     "metadata": {},
     "output_type": "execute_result"
    }
   ],
   "source": [
    "symbol_content('GCADSGFCD', ['G', 'C'])"
   ]
  },
  {
   "cell_type": "code",
   "execution_count": 60,
   "metadata": {},
   "outputs": [],
   "source": [
    "def symbol_non_overlapping(seq, k, symbols):\n",
    "    freqs = []\n",
    "    \n",
    "    for i in range(0, len(seq) - k + 1, k):\n",
    "        sub_seq = seq[i: i + k]\n",
    "                \n",
    "        freqs.append(symbol_content(sub_seq, symbols))\n",
    "        \n",
    "    return freqs"
   ]
  },
  {
   "cell_type": "code",
   "execution_count": 61,
   "metadata": {},
   "outputs": [
    {
     "data": {
      "text/plain": [
       "[0.2,\n",
       " 0.0,\n",
       " 0.4,\n",
       " 0.6,\n",
       " 0.6,\n",
       " 0.6,\n",
       " 0.6,\n",
       " 0.6,\n",
       " 0.4,\n",
       " 0.6,\n",
       " 0.6,\n",
       " 0.4,\n",
       " 0.6,\n",
       " 0.2,\n",
       " 0.4,\n",
       " 0.2,\n",
       " 0.0,\n",
       " 0.0,\n",
       " 0.0]"
      ]
     },
     "execution_count": 61,
     "metadata": {},
     "output_type": "execute_result"
    }
   ],
   "source": [
    "symbol_non_overlapping(validSeq, 5, ['G', 'C'])"
   ]
  },
  {
   "cell_type": "code",
   "execution_count": 42,
   "metadata": {},
   "outputs": [
    {
     "data": {
      "text/plain": [
       "95"
      ]
     },
     "execution_count": 42,
     "metadata": {},
     "output_type": "execute_result"
    }
   ],
   "source": [
    "len('ATGAAATTATGAATGAGCCTCAGCTGAAGCATCGCGCATCAGACTACGCTCAGACTCAGACTCAGCATTATAGTGAATGTTAATAAATAAAATAA')"
   ]
  },
  {
   "cell_type": "code",
   "execution_count": 68,
   "metadata": {},
   "outputs": [],
   "source": [
    "# Transcription is the first step required to produce a protein\n",
    "\n",
    "# The new RNA molecule will be created as a complement to one of the strands where the gene is located. \n",
    "# The resulting sequence will be similar to the one of the other DNA strand, but with 'U' instead of 'T' nucleotides.\n",
    "\n",
    "# As a general practice convert sequences to upper case letters\n",
    "\n",
    "def transcription(dna_seq):\n",
    "    assert isValidDNA(dna_seq), 'ERROR: Invalid DNA sequence'\n",
    "    \n",
    "    return dna_seq.upper().replace('T', 'U')"
   ]
  },
  {
   "cell_type": "code",
   "execution_count": 70,
   "metadata": {},
   "outputs": [
    {
     "ename": "AssertionError",
     "evalue": "ERROR: Invalid DNA sequence",
     "output_type": "error",
     "traceback": [
      "\u001b[0;31m---------------------------------------------------------------------------\u001b[0m",
      "\u001b[0;31mAssertionError\u001b[0m                            Traceback (most recent call last)",
      "\u001b[0;32m<ipython-input-70-9a4e48741ae4>\u001b[0m in \u001b[0;36m<module>\u001b[0;34m\u001b[0m\n\u001b[1;32m      1\u001b[0m \u001b[0mtranscription\u001b[0m\u001b[0;34m(\u001b[0m\u001b[0mvalidSeq\u001b[0m\u001b[0;34m)\u001b[0m\u001b[0;34m\u001b[0m\u001b[0;34m\u001b[0m\u001b[0m\n\u001b[0;32m----> 2\u001b[0;31m \u001b[0mtranscription\u001b[0m\u001b[0;34m(\u001b[0m\u001b[0minvalidSeq\u001b[0m\u001b[0;34m)\u001b[0m\u001b[0;34m\u001b[0m\u001b[0;34m\u001b[0m\u001b[0m\n\u001b[0m",
      "\u001b[0;32m<ipython-input-68-dc44af2519e7>\u001b[0m in \u001b[0;36mtranscription\u001b[0;34m(dna_seq)\u001b[0m\n\u001b[1;32m      7\u001b[0m \u001b[0;34m\u001b[0m\u001b[0m\n\u001b[1;32m      8\u001b[0m \u001b[0;32mdef\u001b[0m \u001b[0mtranscription\u001b[0m\u001b[0;34m(\u001b[0m\u001b[0mdna_seq\u001b[0m\u001b[0;34m)\u001b[0m\u001b[0;34m:\u001b[0m\u001b[0;34m\u001b[0m\u001b[0;34m\u001b[0m\u001b[0m\n\u001b[0;32m----> 9\u001b[0;31m     \u001b[0;32massert\u001b[0m \u001b[0misValidDNA\u001b[0m\u001b[0;34m(\u001b[0m\u001b[0mdna_seq\u001b[0m\u001b[0;34m)\u001b[0m\u001b[0;34m,\u001b[0m \u001b[0;34m'ERROR: Invalid DNA sequence'\u001b[0m\u001b[0;34m\u001b[0m\u001b[0;34m\u001b[0m\u001b[0m\n\u001b[0m\u001b[1;32m     10\u001b[0m \u001b[0;34m\u001b[0m\u001b[0m\n\u001b[1;32m     11\u001b[0m     \u001b[0;32mreturn\u001b[0m \u001b[0mdna_seq\u001b[0m\u001b[0;34m.\u001b[0m\u001b[0mupper\u001b[0m\u001b[0;34m(\u001b[0m\u001b[0;34m)\u001b[0m\u001b[0;34m.\u001b[0m\u001b[0mreplace\u001b[0m\u001b[0;34m(\u001b[0m\u001b[0;34m'T'\u001b[0m\u001b[0;34m,\u001b[0m \u001b[0;34m'U'\u001b[0m\u001b[0;34m)\u001b[0m\u001b[0;34m\u001b[0m\u001b[0;34m\u001b[0m\u001b[0m\n",
      "\u001b[0;31mAssertionError\u001b[0m: ERROR: Invalid DNA sequence"
     ]
    }
   ],
   "source": [
    "transcription(validSeq)\n",
    "transcription(invalidSeq)"
   ]
  },
  {
   "cell_type": "raw",
   "metadata": {},
   "source": []
  },
  {
   "cell_type": "code",
   "execution_count": null,
   "metadata": {},
   "outputs": [],
   "source": [
    "# Given the complementary of the DNA molecule, it is often necessary to compute\n",
    "# the content of one strand given the sequence of the other strand. This is called\n",
    "# reverse complement\n",
    "\n",
    "# Complement -> replace 'A' <-> 'T', 'C' <-> 'G'\n",
    "reverse_complement(dna_seq):\n",
    "    assert isValidDNA(dna_seq), 'ERROR: Invalid DNA sequence'\n",
    "    \n",
    "    dna_seq = dna_seq.upper()\n",
    "    \n",
    "    return \n",
    "    \n",
    "    "
   ]
  },
  {
   "cell_type": "code",
   "execution_count": 77,
   "metadata": {},
   "outputs": [],
   "source": [
    "# Read from file \n",
    "\n",
    "def read_dic_aminoacids():\n",
    "    dic = {}\n",
    "    fd = open('genetic_code.txt')\n",
    "    \n",
    "    for line in fd:\n",
    "        triplet = line[1:4]\n",
    "        aminoacid = line[7]\n",
    "        dic[triplet] = aminoacid\n",
    "    \n",
    "    return dic"
   ]
  },
  {
   "cell_type": "code",
   "execution_count": 78,
   "metadata": {},
   "outputs": [
    {
     "data": {
      "text/plain": [
       "{'GCT': 'A',\n",
       " 'GCC': 'A',\n",
       " 'GCA': 'A',\n",
       " 'GCG': 'A',\n",
       " 'TGT': 'C',\n",
       " 'TGC': 'C',\n",
       " 'GAT': 'D',\n",
       " 'GAC': 'D',\n",
       " 'GAA': 'E',\n",
       " 'GAG': 'E',\n",
       " 'TTT': 'F',\n",
       " 'TTC': 'F',\n",
       " 'GGT': 'G',\n",
       " 'GGC': 'G',\n",
       " 'GGA': 'G',\n",
       " 'GGG': 'G',\n",
       " 'CAT': 'H',\n",
       " 'CAC': 'H',\n",
       " 'ATA': 'I',\n",
       " 'ATT': 'I',\n",
       " 'ATC': 'I',\n",
       " 'AAA': 'K',\n",
       " 'AAG': 'K',\n",
       " 'TTA': 'L',\n",
       " 'TTG': 'L',\n",
       " 'CTT': 'L',\n",
       " 'CTC': 'L',\n",
       " 'CTA': 'L',\n",
       " 'CTG': 'L',\n",
       " 'ATG': 'M',\n",
       " 'AAT': 'N',\n",
       " 'AAC': 'N',\n",
       " 'CCT': 'P',\n",
       " 'CCC': 'P',\n",
       " 'CCA': 'P',\n",
       " 'CCG': 'P',\n",
       " 'CAA': 'Q',\n",
       " 'CAG': 'Q',\n",
       " 'CGT': 'R',\n",
       " 'CGC': 'R',\n",
       " 'CGA': 'R',\n",
       " 'CGG': 'R',\n",
       " 'AGA': 'R',\n",
       " 'AGG': 'R',\n",
       " 'TCT': 'S',\n",
       " 'TCC': 'S',\n",
       " 'TCA': 'S',\n",
       " 'TCG': 'S',\n",
       " 'AGT': 'S',\n",
       " 'AGC': 'S',\n",
       " 'ACT': 'T',\n",
       " 'ACC': 'T',\n",
       " 'ACA': 'T',\n",
       " 'ACG': 'T',\n",
       " 'GTT': 'V',\n",
       " 'GTC': 'V',\n",
       " 'GTA': 'V',\n",
       " 'GTG': 'V',\n",
       " 'TGG': 'W',\n",
       " 'TAT': 'Y',\n",
       " 'TAC': 'Y',\n",
       " 'TAA': '_',\n",
       " 'TAG': '_',\n",
       " 'TGA': '_'}"
      ]
     },
     "execution_count": 78,
     "metadata": {},
     "output_type": "execute_result"
    }
   ],
   "source": [
    "read_dic_aminoacids()"
   ]
  },
  {
   "cell_type": "code",
   "execution_count": null,
   "metadata": {},
   "outputs": [],
   "source": []
  }
 ],
 "metadata": {
  "kernelspec": {
   "display_name": "Python 3",
   "language": "python",
   "name": "python3"
  },
  "language_info": {
   "codemirror_mode": {
    "name": "ipython",
    "version": 3
   },
   "file_extension": ".py",
   "mimetype": "text/x-python",
   "name": "python",
   "nbconvert_exporter": "python",
   "pygments_lexer": "ipython3",
   "version": "3.7.2"
  }
 },
 "nbformat": 4,
 "nbformat_minor": 2
}
