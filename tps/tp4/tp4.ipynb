{
 "cells": [
  {
   "cell_type": "code",
   "execution_count": 5,
   "metadata": {},
   "outputs": [],
   "source": [
    "# Function that reads a multi-line sequence from a text file\n",
    "\n",
    "def read_dna_seq(filename):\n",
    "    seq = ''\n",
    "    fd = open(filename)\n",
    "    \n",
    "    for line in fd:\n",
    "        seq += line.strip()\n",
    "    \n",
    "    fd.close()\n",
    "    return seq"
   ]
  },
  {
   "cell_type": "code",
   "execution_count": 7,
   "metadata": {},
   "outputs": [
    {
     "data": {
      "text/plain": [
       "'ATTTAAAAGAACTTAATGATCAAGTTCATCAAAATCTTATTGGGGTGCCAAATAAACGTACCCTTGAATTTGCAAAATATTTGCAAAAACGTAATCAACATACCTGGATTCGTTATGTTGTGGTTCCTGGTTATACTGATAGCGATCACGATGTGCATTTATTAGGTCAGTTTATTGAAGGTATGACCAATATTGAAAAAGTTGAACTTCTTCCTTATCATCGATTAGGTGTGCATAAATGGAAAACCCTTGGGTTAGATTATGAGCTTGAAAATGTATTACCGCCAACTAAAGAATCCTTAGAACATATTAAAACAATCCTAGAAGGTTATGGACACACTGTAAAATTCTAGAATAAATGTCAGCTAACATAAGGAGTAAATAATGAAAAAAATTATTTTAACATTATCACTTGGGTTACTTACCGCTTGTTCTGCTCAAATCCAAAAGGCTGAACAAAATGATGTGAAGCTGGCACCGCCGACTGATGTACGAAGCGGATATATACGTTTGGTAAAGAATGTGAATTATTACATCGATAGTGAATCGATCTGGGTGGATAACCAAGAGCCACAAATTGTACATTTTGATGCTGTGGTGAATTTAGATAGGGGATTGTATGTTTATCCTGAGCCTAAACGTTATGCACGTTCTGTTCGTCAGTATAAGATTTTGAATTGTGCAAATTATCATTTAACTCAAATACGAACTGATTTCTATGATGAATTTTGGGGACAGGGTTTGCGGGCAGCACCTAAAAAGCAAAAGAAACATACGTTAAGTTTAACACCTGATACAACGCTTTATAATGCTGCTCAGATTATTTGTGCAAATTATGGTAAAGCATTTTCAGTTGATAAAAAATAAAAAAATCTGCACCTTAATTAGTTTAAATTTTATTCAATTTTTAGGGTGCAGAGAGTATTCGATTTTTCTGCAGTTATTGCTATTTTACTGCTGGCACTTTTAAGTCTGGCTCGTTTGGTTTTTCAATTGGTGCAAAAGTTTTATCTTTATTCGCATCAATAATTTTTTGAGTATCATTTGCTAATGCGGTTAAACCCATTTTTTCATAAGCTTCCTGCATCAGAAATAATCCTTCATAAGTTGCTTTAGTATCAGGATATTGTTTTAACATTCCTACCACACGATTTGCAACTGCTACCCACGCTTTACGTTTTGCATAGAATTTTGCAATCTCTAATTCGTGACGAGCCAGTGCATCTTTAATATAAGCCATACGAGCTAAAGCAT'"
      ]
     },
     "execution_count": 7,
     "metadata": {},
     "output_type": "execute_result"
    }
   ],
   "source": [
    "read_dna_seq('example_Hinfluenzae.txt')"
   ]
  },
  {
   "cell_type": "code",
   "execution_count": 9,
   "metadata": {},
   "outputs": [],
   "source": [
    "# Function that writes a DNA sequence to a text file\n",
    "\n",
    "def write_dna_seq(seq, filename):\n",
    "    fd = open(filename, 'w')\n",
    "    \n",
    "    for i in range(0, len(seq), 60):\n",
    "        fd.write(seq[i:i+60] + '\\n')\n",
    "        \n",
    "    fd.close()"
   ]
  },
  {
   "cell_type": "code",
   "execution_count": 10,
   "metadata": {},
   "outputs": [],
   "source": [
    "seq = 'ATTTAAAAGAACTTAATGATCAAGTTCATCAAAATCTTATTGGGGTGCCAAATAAACGTACCCTTGAATTTGCAAAATATTTGCAAAAACGTAATCAACATACCTGGATTCGTTATGTTGTGGTTCCTGGTTATACTGATAGCGATCACGATGTGCATTTATTAGGTCAGTTTATTGAAGGTATGACCAATATTGAAAAAGTTGAACTTCTTCCTTATCATCGATTAGGTGTGCATAAATGGAAAACCCTTGGGTTAGATTATGAGCTTGAAAATGTATTACCGCCAACTAAAGAATCCTTAGAACATATTAAAACAATCCTAGAAGGTTATGGACACACTGTAAAATTCTAGAATAAATGTCAGCTAACATAAGGAGTAAATAATGAAAAAAATTATTTTAACATTATCACTTGGGTTACTTACCGCTTGTTCTGCTCAAATCCAAAAGGCTGAACAAAATGATGTGAAGCTGGCACCGCCGACTGATGTACGAAGCGGATATATACGTTTGGTAAAGAATGTGAATTATTACATCGATAGTGAATCGATCTGGGTGGATAACCAAGAGCCACAAATTGTACATTTTGATGCTGTGGTGAATTTAGATAGGGGATTGTATGTTTATCCTGAGCCTAAACGTTATGCACGTTCTGTTCGTCAGTATAAGATTTTGAATTGTGCAAATTATCATTTAACTCAAATACGAACTGATTTCTATGATGAATTTTGGGGACAGGGTTTGCGGGCAGCACCTAAAAAGCAAAAGAAACATACGTTAAGTTTAACACCTGATACAACGCTTTATAATGCTGCTCAGATTATTTGTGCAAATTATGGTAAAGCATTTTCAGTTGATAAAAAATAAAAAAATCTGCACCTTAATTAGTTTAAATTTTATTCAATTTTTAGGGTGCAGAGAGTATTCGATTTTTCTGCAGTTATTGCTATTTTACTGCTGGCACTTTTAAGTCTGGCTCGTTTGGTTTTTCAATTGGTGCAAAAGTTTTATCTTTATTCGCATCAATAATTTTTTGAGTATCATTTGCTAATGCGGTTAAACCCATTTTTTCATAAGCTTCCTGCATCAGAAATAATCCTTCATAAGTTGCTTTAGTATCAGGATATTGTTTTAACATTCCTACCACACGATTTGCAACTGCTACCCACGCTTTACGTTTTGCATAGAATTTTGCAATCTCTAATTCGTGACGAGCCAGTGCATCTTTAATATAAGCCATACGAGCTAAAGCAT'\n",
    "write_dna_seq(seq, 'hello_seq.txt')"
   ]
  },
  {
   "cell_type": "code",
   "execution_count": 2,
   "metadata": {},
   "outputs": [],
   "source": [
    "# Function that reads a Fasta file into a dictionary\n",
    "\n",
    "def read_fasta_file(filename):\n",
    "    dic = {}\n",
    "    \n",
    "    fd = open(filename)\n",
    "    key = ''\n",
    "    \n",
    "    for line in fd:\n",
    "        \n",
    "        # Ignore empty lines\n",
    "        if len(line.strip()):\n",
    "            line = line.strip()\n",
    "\n",
    "            if(line[0] == '>'):\n",
    "                key = line[1:]\n",
    "                dic[key] = ''\n",
    "            else:\n",
    "                dic[key] += line\n",
    "    \n",
    "    fd.close()\n",
    "    return dic\n",
    "            "
   ]
  },
  {
   "cell_type": "code",
   "execution_count": 3,
   "metadata": {},
   "outputs": [
    {
     "data": {
      "text/plain": [
       "{'ORF number 1 in reading frame 1 on the direct strand extends from base 16 to base 165.': 'ATGATCAAGTTCATCAAAATCTTATTGGGGTGCCAAATAAACGTACCCTTGAATTTGCAAAATATTTGCAAAAACGTAATCAACATACCTGGATTCGTTATGTTGTGGTTCCTGGTTATACTGATAGCGATCACGATGTGCATTTATTAG',\n",
       " 'Translation of ORF number 1 in reading frame 1 on the direct strand.': 'MIKFIKILLGCQINVPLNLQNICKNVINIPGFVMLWFLVILIAITMCIY*',\n",
       " 'ORF number 2 in reading frame 1 on the direct strand extends from base 385 to base 867.': 'ATGAAAAAAATTATTTTAACATTATCACTTGGGTTACTTACCGCTTGTTCTGCTCAAATCCAAAAGGCTGAACAAAATGATGTGAAGCTGGCACCGCCGACTGATGTACGAAGCGGATATATACGTTTGGTAAAGAATGTGAATTATTACATCGATAGTGAATCGATCTGGGTGGATAACCAAGAGCCACAAATTGTACATTTTGATGCTGTGGTGAATTTAGATAGGGGATTGTATGTTTATCCTGAGCCTAAACGTTATGCACGTTCTGTTCGTCAGTATAAGATTTTGAATTGTGCAAATTATCATTTAACTCAAATACGAACTGATTTCTATGATGAATTTTGGGGACAGGGTTTGCGGGCAGCACCTAAAAAGCAAAAGAAACATACGTTAAGTTTAACACCTGATACAACGCTTTATAATGCTGCTCAGATTATTTGTGCAAATTATGGTAAAGCATTTTCAGTTGATAAAAAATAA',\n",
       " 'Translation of ORF number 2 in reading frame 1 on the direct strand.': 'MKKIILTLSLGLLTACSAQIQKAEQNDVKLAPPTDVRSGYIRLVKNVNYYIDSESIWVDNQEPQIVHFDAVVNLDRGLYVYPEPKRYARSVRQYKILNCANYHLTQIRTDFYDEFWGQGLRAAPKKQKKHTLSLTPDTTLYNAAQIICANYGKAFSVDKK*',\n",
       " 'ORF number 1 in reading frame 2 on the direct strand extends from base 809 to base 970.': 'ATGCTGCTCAGATTATTTGTGCAAATTATGGTAAAGCATTTTCAGTTGATAAAAAATAAAAAAATCTGCACCTTAATTAGTTTAAATTTTATTCAATTTTTAGGGTGCAGAGAGTATTCGATTTTTCTGCAGTTATTGCTATTTTACTGCTGGCACTTTTAA',\n",
       " 'Translation of ORF number 1 in reading frame 2 on the direct strand.': 'MLLRLFVQIMVKHFQLIKNKKICTLISLNFIQFLGCREYSIFLQLLLFYCWHF*',\n",
       " 'ORF number 1 in reading frame 3 on the direct strand extends from base 183 to base 353.': 'ATGACCAATATTGAAAAAGTTGAACTTCTTCCTTATCATCGATTAGGTGTGCATAAATGGAAAACCCTTGGGTTAGATTATGAGCTTGAAAATGTATTACCGCCAACTAAAGAATCCTTAGAACATATTAAAACAATCCTAGAAGGTTATGGACACACTGTAAAATTCTAG',\n",
       " 'Translation of ORF number 1 in reading frame 3 on the direct strand.': 'MTNIEKVELLPYHRLGVHKWKTLGLDYELENVLPPTKESLEHIKTILEGYGHTVKF*',\n",
       " 'ORF number 1 in reading frame 1 on the reverse strand extends from base 562 to base 651.': 'ATGATAATTTGCACAATTCAAAATCTTATACTGACGAACAGAACGTGCATAACGTTTAGGCTCAGGATAAACATACAATCCCCTATCTAA',\n",
       " 'Translation of ORF number 1 in reading frame 1 on the reverse strand.': 'MIICTIQNLILTNRTCITFRLRINIQSPI*',\n",
       " 'ORF number 2 in reading frame 1 on the reverse strand extends from base 670 to base 837.': 'ATGTACAATTTGTGGCTCTTGGTTATCCACCCAGATCGATTCACTATCGATGTAATAATTCACATTCTTTACCAAACGTATATATCCGCTTCGTACATCAGTCGGCGGTGCCAGCTTCACATCATTTTGTTCAGCCTTTTGGATTTGAGCAGAACAAGCGGTAAGTAA',\n",
       " 'Translation of ORF number 2 in reading frame 1 on the reverse strand.': 'MYNLWLLVIHPDRFTIDVIIHILYQTYISASYISRRCQLHIILFSLLDLSRTSGK*',\n",
       " 'ORF number 1 in reading frame 2 on the reverse strand extends from base 1097 to base 1252.': 'ATGCACATCGTGATCGCTATCAGTATAACCAGGAACCACAACATAACGAATCCAGGTATGTTGATTACGTTTTTGCAAATATTTTGCAAATTCAAGGGTACGTTTATTTGGCACCCCAATAAGATTTTGATGAACTTGATCATTAAGTTCTTTTAA',\n",
       " 'Translation of ORF number 1 in reading frame 2 on the reverse strand.': 'MHIVIAISITRNHNITNPGMLITFLQIFCKFKGTFIWHPNKILMNLIIKFF*',\n",
       " 'ORF number 1 in reading frame 3 on the reverse strand extends from base 15 to base 308.': 'ATGGCTTATATTAAAGATGCACTGGCTCGTCACGAATTAGAGATTGCAAAATTCTATGCAAAACGTAAAGCGTGGGTAGCAGTTGCAAATCGTGTGGTAGGAATGTTAAAACAATATCCTGATACTAAAGCAACTTATGAAGGATTATTTCTGATGCAGGAAGCTTATGAAAAAATGGGTTTAACCGCATTAGCAAATGATACTCAAAAAATTATTGATGCGAATAAAGATAAAACTTTTGCACCAATTGAAAAACCAAACGAGCCAGACTTAAAAGTGCCAGCAGTAAAATAG',\n",
       " 'Translation of ORF number 1 in reading frame 3 on the reverse strand.': 'MAYIKDALARHELEIAKFYAKRKAWVAVANRVVGMLKQYPDTKATYEGLFLMQEAYEKMGLTALANDTQKIIDANKDKTFAPIEKPNEPDLKVPAVK*'}"
      ]
     },
     "execution_count": 3,
     "metadata": {},
     "output_type": "execute_result"
    }
   ],
   "source": [
    "read_fasta_file('example_Hinfluenzae.openreadingframes.txt')"
   ]
  },
  {
   "cell_type": "code",
   "execution_count": 28,
   "metadata": {},
   "outputs": [],
   "source": [
    "def read_dic_aminoacids():\n",
    "    dic = {}\n",
    "    fd = open('genetic_code.txt')\n",
    "    \n",
    "    for line in fd:\n",
    "        triplet = line[1:4]\n",
    "        aminoacid = line[7]\n",
    "        dic[triplet] = aminoacid\n",
    "    \n",
    "    return dic\n",
    "\n",
    "# Helper function\n",
    "def translate_codon(triplet, dic):\n",
    "    assert triplet in dic, 'Triplet not found in dictionary'\n",
    "    \n",
    "    return dic[triplet]"
   ]
  },
  {
   "cell_type": "code",
   "execution_count": 37,
   "metadata": {},
   "outputs": [
    {
     "name": "stdout",
     "output_type": "stream",
     "text": [
      "A\n"
     ]
    },
    {
     "ename": "AssertionError",
     "evalue": "Triplet not found in dictionary",
     "output_type": "error",
     "traceback": [
      "\u001b[0;31m---------------------------------------------------------------------------\u001b[0m",
      "\u001b[0;31mAssertionError\u001b[0m                            Traceback (most recent call last)",
      "\u001b[0;32m<ipython-input-37-0b8fa74530e8>\u001b[0m in \u001b[0;36m<module>\u001b[0;34m\u001b[0m\n\u001b[1;32m      2\u001b[0m \u001b[0;34m\u001b[0m\u001b[0m\n\u001b[1;32m      3\u001b[0m \u001b[0mprint\u001b[0m\u001b[0;34m(\u001b[0m\u001b[0mtranslate_codon\u001b[0m\u001b[0;34m(\u001b[0m\u001b[0;34m'GCT'\u001b[0m\u001b[0;34m,\u001b[0m \u001b[0mcodon_dic\u001b[0m\u001b[0;34m)\u001b[0m\u001b[0;34m)\u001b[0m \u001b[0;31m# A\u001b[0m\u001b[0;34m\u001b[0m\u001b[0;34m\u001b[0m\u001b[0m\n\u001b[0;32m----> 4\u001b[0;31m \u001b[0mprint\u001b[0m\u001b[0;34m(\u001b[0m\u001b[0mtranslate_codon\u001b[0m\u001b[0;34m(\u001b[0m\u001b[0;34m'ABC'\u001b[0m\u001b[0;34m,\u001b[0m \u001b[0mcodon_dic\u001b[0m\u001b[0;34m)\u001b[0m\u001b[0;34m)\u001b[0m \u001b[0;31m# Assertion Error\u001b[0m\u001b[0;34m\u001b[0m\u001b[0;34m\u001b[0m\u001b[0m\n\u001b[0m",
      "\u001b[0;32m<ipython-input-28-705b2b7ddd32>\u001b[0m in \u001b[0;36mtranslate_codon\u001b[0;34m(triplet, dic)\u001b[0m\n\u001b[1;32m     12\u001b[0m \u001b[0;31m# Helper function\u001b[0m\u001b[0;34m\u001b[0m\u001b[0;34m\u001b[0m\u001b[0;34m\u001b[0m\u001b[0m\n\u001b[1;32m     13\u001b[0m \u001b[0;32mdef\u001b[0m \u001b[0mtranslate_codon\u001b[0m\u001b[0;34m(\u001b[0m\u001b[0mtriplet\u001b[0m\u001b[0;34m,\u001b[0m \u001b[0mdic\u001b[0m\u001b[0;34m)\u001b[0m\u001b[0;34m:\u001b[0m\u001b[0;34m\u001b[0m\u001b[0;34m\u001b[0m\u001b[0m\n\u001b[0;32m---> 14\u001b[0;31m     \u001b[0;32massert\u001b[0m \u001b[0mtriplet\u001b[0m \u001b[0;32min\u001b[0m \u001b[0mdic\u001b[0m\u001b[0;34m,\u001b[0m \u001b[0;34m'Triplet not found in dictionary'\u001b[0m\u001b[0;34m\u001b[0m\u001b[0;34m\u001b[0m\u001b[0m\n\u001b[0m\u001b[1;32m     15\u001b[0m \u001b[0;34m\u001b[0m\u001b[0m\n\u001b[1;32m     16\u001b[0m     \u001b[0;32mreturn\u001b[0m \u001b[0mdic\u001b[0m\u001b[0;34m[\u001b[0m\u001b[0mtriplet\u001b[0m\u001b[0;34m]\u001b[0m\u001b[0;34m\u001b[0m\u001b[0;34m\u001b[0m\u001b[0m\n",
      "\u001b[0;31mAssertionError\u001b[0m: Triplet not found in dictionary"
     ]
    }
   ],
   "source": [
    "codon_dic = read_dic_aminoacids()\n",
    "\n",
    "print(translate_codon('GCT', codon_dic)) # A\n",
    "print(translate_codon('ABC', codon_dic)) # Assertion Error"
   ]
  },
  {
   "cell_type": "code",
   "execution_count": 40,
   "metadata": {},
   "outputs": [],
   "source": [
    "# Function that translates sequence of codons into protein\n",
    "\n",
    "# input - DNA sequence, codon dictionary, and initial position in the sequence\n",
    "# output - translated protein sequence\n",
    "\n",
    "\n",
    "def translate_seq(seq, dic, init_index = 0):\n",
    "    res = ''\n",
    "    \n",
    "    for i in range(init_index, len(seq) - 2, 3):\n",
    "        res += translate_codon(seq[i:i+3], dic)\n",
    "\n",
    "    return res"
   ]
  },
  {
   "cell_type": "code",
   "execution_count": 41,
   "metadata": {},
   "outputs": [
    {
     "data": {
      "text/plain": [
       "'MKL_MSLS_SIAHQTTLRLRLSIIVNVNK_N'"
      ]
     },
     "execution_count": 41,
     "metadata": {},
     "output_type": "execute_result"
    }
   ],
   "source": [
    "translate_seq('ATGAAATTATGAATGAGCCTCAGCTGAAGCATCGCGCATCAGACTACGCTCAGACTCAGACTCAGCATTATAGTGAATGTTAATAAATAAAATAA', codon_dic)"
   ]
  },
  {
   "cell_type": "code",
   "execution_count": 49,
   "metadata": {},
   "outputs": [],
   "source": [
    "# Given the redundancy of the genetic code, multiple codons may code for a single aminoacids.\n",
    "# Different species tend to use more frequently certain codons in their genes when coding for proteins. \n",
    "# This differential coding is tipically called codon usage\n",
    "\n",
    "# Common aminocids that have multiple 'key' codons -> A and R\n",
    "def codon_usage(seq, aminoacid, codon_dic):\n",
    "    res_dic = {}\n",
    "    for k,v in codon_dic.items():\n",
    "        if v is aminoacid:\n",
    "            res_dic[k] = 0\n",
    "    \n",
    "    for i in range(0, len(seq) - 2, 3):\n",
    "        codon = seq[i:i+3]\n",
    "\n",
    "        if translate_codon(codon, codon_dic) == aminoacid:\n",
    "            res_dic[codon] += 1\n",
    "                \n",
    "    return res_dic        \n"
   ]
  },
  {
   "cell_type": "code",
   "execution_count": 50,
   "metadata": {},
   "outputs": [
    {
     "data": {
      "text/plain": [
       "{'GCT': 0, 'GCC': 0, 'GCA': 0, 'GCG': 1}"
      ]
     },
     "execution_count": 50,
     "metadata": {},
     "output_type": "execute_result"
    }
   ],
   "source": [
    "seq = 'ATGAAATTATGAATGAGCCTCAGCTGAAGCATCGCGCATCAGACTACGCTCAGACTCAGACTCAGCATTATAGTGAATGTTAATAAATAAAATAA'\n",
    "codon_usage(seq, 'A', codon_dic)"
   ]
  },
  {
   "cell_type": "code",
   "execution_count": null,
   "metadata": {},
   "outputs": [],
   "source": [
    "# For an aminoacid sequence translated from the DNA sequence, find all possible open reading frames. The putative\n",
    "# protein sequence should start with the start codon and finish in he stop codon. Note that multiple start codons \n",
    "# may appear efore the stop codon. Add the resulting \"proteins\" to a list."
   ]
  }
 ],
 "metadata": {
  "kernelspec": {
   "display_name": "Python 3",
   "language": "python",
   "name": "python3"
  },
  "language_info": {
   "codemirror_mode": {
    "name": "ipython",
    "version": 3
   },
   "file_extension": ".py",
   "mimetype": "text/x-python",
   "name": "python",
   "nbconvert_exporter": "python",
   "pygments_lexer": "ipython3",
   "version": "3.7.2"
  }
 },
 "nbformat": 4,
 "nbformat_minor": 2
}
