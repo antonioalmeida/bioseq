{
 "cells": [
  {
   "cell_type": "code",
   "execution_count": null,
   "metadata": {},
   "outputs": [],
   "source": [
    "# Write a function that finds the most similar sequence to a query sequence.\n",
    "# The function should use the local alignment algorithm developed previously\n",
    "# It receives as input:\n",
    "#    - Query sequence (query)\n",
    "#    - List of sequences (list_of_seqs)\n",
    "#    - Substitution matrix (sm)\n",
    "#    - Gap penalty (g)\n",
    "\n",
    "def find_most_similar(query, list_of_seqs, sm, g):\n",
    "    "
   ]
  }
 ],
 "metadata": {
  "kernelspec": {
   "display_name": "Python 3",
   "language": "python",
   "name": "python3"
  },
  "language_info": {
   "codemirror_mode": {
    "name": "ipython",
    "version": 3
   },
   "file_extension": ".py",
   "mimetype": "text/x-python",
   "name": "python",
   "nbconvert_exporter": "python",
   "pygments_lexer": "ipython3",
   "version": "3.7.2"
  }
 },
 "nbformat": 4,
 "nbformat_minor": 2
}
