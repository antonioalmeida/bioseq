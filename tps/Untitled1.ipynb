{
 "cells": [
  {
   "cell_type": "markdown",
   "metadata": {},
   "source": [
    "# Multiple Sequence Alignment\n",
    "\n",
    "- Clustal Omega - software for multiple sequence alignment\n",
    "- Alignment between 3+ sequences\n",
    "- Global or Local alignment\n",
    "\n",
    "### Use case\n",
    "- Protein of unknown function\n",
    "- Use BLAST - get \"matches\" on species and their respective sequences\n",
    "- Run multiple sequence alignment on those sequences\n",
    "- Get a phylogenetic tree - \"describes the distance between the sequences under analysys\"\n",
    "\n"
   ]
  },
  {
   "cell_type": "code",
   "execution_count": null,
   "metadata": {},
   "outputs": [],
   "source": []
  }
 ],
 "metadata": {
  "kernelspec": {
   "display_name": "Python 3",
   "language": "python",
   "name": "python3"
  },
  "language_info": {
   "codemirror_mode": {
    "name": "ipython",
    "version": 3
   },
   "file_extension": ".py",
   "mimetype": "text/x-python",
   "name": "python",
   "nbconvert_exporter": "python",
   "pygments_lexer": "ipython3",
   "version": "3.7.2"
  }
 },
 "nbformat": 4,
 "nbformat_minor": 2
}
