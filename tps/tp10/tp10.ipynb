{
 "cells": [
  {
   "cell_type": "markdown",
   "metadata": {},
   "source": [
    "# Dynamic Programming for Global Aligment\n",
    "\n",
    "The previous procedure is sufciciente to calculate the score of the best alignment but not the alignment itself.\n",
    "We need to keep track of the decisions that define the path to reach from the beginning.\n",
    "\n"
   ]
  },
  {
   "cell_type": "code",
   "execution_count": 1,
   "metadata": {},
   "outputs": [],
   "source": [
    "# Fill matrices S and T (1 for diagonal, 2 for vertical and 3 for horizontal)\n",
    "\n",
    "def needleman_wunsch(seq1, seq2, sm, g):\n",
    "    m = len(seq1)\n",
    "    n = len(seq2)\n",
    "    \n",
    "    score = [[0]]\n",
    "    trace = [[0]]\n",
    "    \n",
    "       \n",
    "    # initialize gaps in rows\n",
    "    score[0] = [g * j for j in range(0, n+1)]\n",
    "    trace[0] = [3 for _ in range(0, n+1)]\n",
    "    \n",
    "    \n",
    "    # initialize gaps in cols\n",
    "    for i in range(1, m+1):\n",
    "        score.append([g*i])\n",
    "        trace.append([2])\n",
    "\n",
    "    # apply the recurrence to fill the matrices\n",
    "    for i in range(1, m+1):\n",
    "        for j in range(1, n+1):\n",
    "            s1 = score[i-1][j-1] + score_col_alignment(seq1[i-1], seq2[j-1], sm, g)\n",
    "            s2 = score[i-1][j] + g\n",
    "            s3 = score[i][j-1] + g\n",
    "            score[i].append(max(s1,s2,s3))\n",
    "            trace[i].append(max3t(s1,s2,s3))\n",
    "    \n",
    "    return (score, trace)\n",
    "\n",
    "def max3t(v1,v2,v3):\n",
    "    if v1 > v2:\n",
    "        return 1 if v1 > v3 else 3\n",
    "    else:\n",
    "        return 2 if v2 > v3 else 3\n",
    "            "
   ]
  },
  {
   "cell_type": "code",
   "execution_count": 21,
   "metadata": {},
   "outputs": [],
   "source": [
    "# Implements a substitution matrix given an alphabet, a value for match and a value for a mismatch\n",
    "def subst_matrix(alphabet, match=1, mismatch=0):\n",
    "    dic = { x+y:match if x==y else mismatch for x in alphabet for y in alphabet}\n",
    "    return dic\n",
    "\n",
    "# Provides the score of a column alignment, i.e., between characters c1 and c2\n",
    "# Assume a constant gap penalty g and a substitution matrix sm\n",
    "def score_col_alignment(c1, c2, sm, g):\n",
    "    return g if c1 == '-' or c2 == '-' else sm[c1+c2]\n"
   ]
  },
  {
   "cell_type": "code",
   "execution_count": 20,
   "metadata": {},
   "outputs": [
    {
     "name": "stdout",
     "output_type": "stream",
     "text": [
      "[[0, -3, -6, -9, -12], [-3, -1, 0, -3, -6], [-6, -4, -2, 3, 0], [-9, -3, -5, 0, 6], [-12, -6, 0, -3, 3]]\n",
      "\n",
      "[[3, 3, 3, 3, 3], [2, 1, 1, 3, 3], [2, 2, 1, 1, 3], [2, 1, 2, 2, 1], [2, 2, 1, 3, 2]]\n"
     ]
    }
   ],
   "source": [
    "sm = subst_matrix(['A','T','C','G'], 3, -1)\n",
    "#sm = read_submat_file('blosum62.mat')\n",
    " \n",
    "(s,t) = needleman_wunsch('ACTA','TACT', sm, -3)\n",
    "\n",
    "print(s)\n",
    "print()\n",
    "print(t)"
   ]
  },
  {
   "cell_type": "code",
   "execution_count": 69,
   "metadata": {},
   "outputs": [],
   "source": [
    "# Recover the optimal alignment from T and A and B\n",
    "# Starts bottom right corner\n",
    "# Diagonal symbol in T adds symbols from A and B to the alignment\n",
    "# A vertical cell in T leads to move to previous low and adds to the the alignment a symbol from A in the respective row and gap from B.\n",
    "# Vice-versa if horizontal cell -> gap from A and symbol from B\n",
    "\n",
    "DIAGONAL = 1\n",
    "VERTICAL = 2\n",
    "HORIZONTAL = 3\n",
    "\n",
    "def recover_align(trace, seq1, seq2):\n",
    "    res = [\"\",\"\"]\n",
    "    (i,j) = (len(seq1),len(seq2))\n",
    "    \n",
    "    while i>0 or j>0:\n",
    "        if trace[j][i] is DIAGONAL:\n",
    "            res[0] += seq1[i-1]\n",
    "            res[1] += seq2[j-1]\n",
    "            i -= 1; j -= 1\n",
    "        elif trace[j][i] is VERTICAL:\n",
    "            res[0] += '_'\n",
    "            res[1] += seq2[j-1]\n",
    "            j -= 1\n",
    "        elif trace[j][i] is HORIZONTAL:\n",
    "            res[0] += seq1[i-1]\n",
    "            res[1] += '_'\n",
    "            i -= 1\n",
    "    \n",
    "    return [s[::-1] for s in res]"
   ]
  },
  {
   "cell_type": "code",
   "execution_count": 11,
   "metadata": {},
   "outputs": [],
   "source": [
    "# In practice for protein substitution matrix it is ieasier to read from a table or an existing file\n",
    "# Assume the matrix is symmetric and first row contains the symbols in the alphabet\n",
    "# Tip: use blosum62.mat\n",
    "\n",
    "def read_submat_file(filename):\n",
    "    \n",
    "    with open(filename) as f:\n",
    "        \n",
    "        chars = f.readline().strip().replace('\\t','')\n",
    "    \n",
    "        keys = [x for x in chars]\n",
    "        matrix = []\n",
    "        \n",
    "        for line in f: \n",
    "            matrix.append(line.strip().split())\n",
    "        \n",
    "        dic = { x+y:int(matrix[yi][xi]) for xi,x in enumerate(keys) for yi,y in enumerate(keys) }\n",
    "        return dic\n",
    "    "
   ]
  },
  {
   "cell_type": "code",
   "execution_count": 70,
   "metadata": {},
   "outputs": [
    {
     "data": {
      "text/plain": [
       "['_TACT', 'ACTA_']"
      ]
     },
     "execution_count": 70,
     "metadata": {},
     "output_type": "execute_result"
    }
   ],
   "source": [
    "#sm = read_submat_file('blosum62.mat')\n",
    "sm = subst_matrix(['A','T','C','G'], 3, -1)\n",
    " \n",
    "(s,t) = needleman_wunsch('TACT','ACTA', sm, -3)\n",
    "\n",
    "recover_align(t, 'TACT', 'ACTA')"
   ]
  },
  {
   "cell_type": "markdown",
   "metadata": {},
   "source": [
    "## Smith-Waterman Algorithm for local alignment"
   ]
  },
  {
   "cell_type": "code",
   "execution_count": 27,
   "metadata": {},
   "outputs": [],
   "source": [
    "def smith_waterman(seq1, seq2, sm, g):\n",
    "    \"\"\"Local alignment\"\"\"\n",
    "    S = [[0]]\n",
    "    T = [[0]]\n",
    "    maxscore = 0\n",
    "    # first row filled with zero\n",
    "    for j in range(1, len(seq2)+1):\n",
    "        S[0].append(0)\n",
    "        T[0].append(0)\n",
    "    # first column filled with zero\n",
    "    for i in range(1, len(seq1)+1):\n",
    "        S.append([0])\n",
    "        T.append([0])\n",
    "    for i in range(0, len(seq1)):\n",
    "        for j in range(len(seq2)):\n",
    "            s1 = S[i][j] + score_col_alignment(seq1[i], seq2[j], sm, g);\n",
    "            s2 = S[i][j+1] + g\n",
    "            s3 = S[i+1][j] + g\n",
    "            b = max(s1, s2, s3)\n",
    "            if b <= 0:\n",
    "                S[i+1].append(0)\n",
    "                T[i+1].append(0)\n",
    "            else:\n",
    "                S[i+1].append(b)\n",
    "                T[i+1].append(max3t(s1, s2, s3))\n",
    "                if b > maxscore:\n",
    "                    maxscore = b\n",
    "    return (S, T, maxscore) "
   ]
  },
  {
   "cell_type": "code",
   "execution_count": 30,
   "metadata": {},
   "outputs": [],
   "source": [
    "def max_mat(mat):\n",
    "    \"\"\"finds the max cell in the matrix\"\"\"\n",
    "    maxval = mat[0][0]\n",
    "    maxrow = 0\n",
    "    maxcol = 0\n",
    "    for i in range(0,len(mat)):\n",
    "        for j in range(0, len(mat[i])):\n",
    "            if mat[i][j] > maxval:\n",
    "                maxval = mat[i][j]\n",
    "                maxrow = i\n",
    "                maxcol = j\n",
    "    return (maxrow, maxcol)"
   ]
  },
  {
   "cell_type": "code",
   "execution_count": 31,
   "metadata": {},
   "outputs": [],
   "source": [
    "def recover_align_local (S, T, seq1, seq2):\n",
    "    \"\"\"recover one of the optimal alignments\"\"\"\n",
    "    res = [\"\", \"\"]\n",
    "    \"\"\"determine the cell with max score\"\"\"\n",
    "    i, j = max_mat(S)\n",
    "    \"\"\"terminates when finds a cell with zero\"\"\"\n",
    "    while T[i][j]>0:\n",
    "        if T[i][j]==1:\n",
    "            res[0] = seq1[i-1] + res[0]\n",
    "            res[1] = seq2[j-1] + res[1]\n",
    "            i -= 1\n",
    "            j -= 1\n",
    "        elif T[i][j] == 3:\n",
    "            res[0] = \"-\" + res[0];\n",
    "            res[1] = seq2[j-1] + res[1]\n",
    "            j -= 1\n",
    "        elif T[i][j] == 2:\n",
    "            res[0] = seq1[i-1] + res[0]\n",
    "            res[1] = \"-\" + res[1]\n",
    "            i -= 1\n",
    "    return res "
   ]
  },
  {
   "cell_type": "code",
   "execution_count": 32,
   "metadata": {},
   "outputs": [],
   "source": [
    "def test_local_alig():\n",
    "    sm = read_submat_file('blosum62.mat')\n",
    "    seq1 = \"PHSWG\"\n",
    "    seq2 = \"HGWAG\"\n",
    "    res = smith_waterman(seq1, seq2, sm, -8)\n",
    "    S = res[0]\n",
    "    T = res[1]\n",
    "    print(\"Score of optimal alignment:\", res[2])\n",
    "    #print_mat(S)\n",
    "    #print_mat(T)\n",
    "    print(S)\n",
    "    print(T)\n",
    "    alinL = recover_align_local(S, T, seq1, seq2)\n",
    "    print(alinL[0])\n",
    "    print(alinL[1]) "
   ]
  },
  {
   "cell_type": "code",
   "execution_count": 33,
   "metadata": {
    "scrolled": true
   },
   "outputs": [
    {
     "name": "stdout",
     "output_type": "stream",
     "text": [
      "Score of optimal alignment: 19\n",
      "[[0, 0, 0, 0, 0, 0], [0, 0, 0, 0, 0, 0], [0, 8, 0, 0, 0, 0], [0, 0, 8, 0, 1, 0], [0, 0, 0, 19, 11, 3], [0, 0, 6, 11, 19, 17]]\n",
      "[[0, 0, 0, 0, 0, 0], [0, 0, 0, 0, 0, 0], [0, 1, 0, 0, 0, 0], [0, 0, 1, 0, 1, 0], [0, 0, 0, 1, 3, 3], [0, 0, 1, 2, 1, 1]]\n",
      "HSW\n",
      "HGW\n"
     ]
    }
   ],
   "source": [
    "test_local_alig()"
   ]
  },
  {
   "cell_type": "code",
   "execution_count": 38,
   "metadata": {},
   "outputs": [],
   "source": [
    "# Write a function that finds the most similar sequence to a query sequence.\n",
    "# The function should use the local alignment algorithm developed previously\n",
    "# It receives as input:\n",
    "#    - Query sequence (query)\n",
    "#    - List of sequences (list_of_seqs)\n",
    "#    - Substitution matrix (sm)\n",
    "#    - Gap penalty (g)\n",
    "\n",
    "def find_most_similar(query, list_of_seqs, sm, g):\n",
    "    res = max([(smith_waterman(query, seq, sm, g), seq) for seq in list_of_seqs], key=lambda x: x[0][2])\n",
    "    \n",
    "    alignment = recover_align_local(res[0][0], res[0][1], query, res[1])\n",
    "    score = res[0][2]\n",
    "    return (alignment, score)\n",
    "# Pode sair em exame\n",
    "        \n",
    "    "
   ]
  },
  {
   "cell_type": "code",
   "execution_count": 40,
   "metadata": {},
   "outputs": [
    {
     "data": {
      "text/plain": [
       "(['ACTG', 'ACT-'], 19)"
      ]
     },
     "execution_count": 40,
     "metadata": {},
     "output_type": "execute_result"
    }
   ],
   "source": [
    "sm = read_submat_file('blosum62.mat')\n",
    "find_most_similar('ACTG', ['ATGC', 'ATTT', 'TACT', 'ATTGT'], sm, g=1)"
   ]
  },
  {
   "cell_type": "markdown",
   "metadata": {},
   "source": [
    "# Exercises\n",
    "\n",
    "Calculate the identify funciton between two sequences. It should rueturn a value of 0 to 1, where 1 is `seq1 == seq2`\n",
    "\n",
    "- Calculate the edit distance between two sequences. As we have seen before, edit distance is the minimum of "
   ]
  },
  {
   "cell_type": "markdown",
   "metadata": {},
   "source": [
    "# Trabalho 2\n",
    "\n",
    "`global_align_multiple_solutions` e `recover_global_align_mutliple_solutions`\n",
    "\n"
   ]
  },
  {
   "cell_type": "markdown",
   "metadata": {},
   "source": [
    "## BLAST\n",
    "\n",
    "- Basic Local Alignment Search Tool\n",
    "- Set of programs\n",
    "- For nucleotides and protein sequences\n",
    "- Matches sequences against sequence databases\n",
    "\n"
   ]
  }
 ],
 "metadata": {
  "kernelspec": {
   "display_name": "Python 3",
   "language": "python",
   "name": "python3"
  },
  "language_info": {
   "codemirror_mode": {
    "name": "ipython",
    "version": 3
   },
   "file_extension": ".py",
   "mimetype": "text/x-python",
   "name": "python",
   "nbconvert_exporter": "python",
   "pygments_lexer": "ipython3",
   "version": "3.7.2"
  }
 },
 "nbformat": 4,
 "nbformat_minor": 2
}
